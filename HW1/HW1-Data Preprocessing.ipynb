{
 "cells": [
  {
   "cell_type": "markdown",
   "metadata": {
    "id": "0RN3GxnPQyQr"
   },
   "source": [
    "# Please Type your student ID: 1083522\n"
   ]
  },
  {
   "cell_type": "markdown",
   "metadata": {
    "id": "xWaJEQAuQyQx"
   },
   "source": [
    "# HW 1-1"
   ]
  },
  {
   "cell_type": "code",
   "execution_count": 1,
   "metadata": {
    "colab": {
     "base_uri": "https://localhost:8080/"
    },
    "executionInfo": {
     "elapsed": 10,
     "status": "ok",
     "timestamp": 1646201649531,
     "user": {
      "displayName": "鍾崴光",
      "photoUrl": "https://lh3.googleusercontent.com/a/default-user=s64",
      "userId": "13844956840831505638"
     },
     "user_tz": -480
    },
    "id": "aVM6UPybQyQy",
    "outputId": "2cd6b25d-61db-475e-eeb7-40f31e33b98d"
   },
   "outputs": [
    {
     "name": "stdout",
     "output_type": "stream",
     "text": [
      "#1\n",
      "總和:  1275\n",
      "#2\n",
      "最小值:  -0.977277879876411\n",
      "最大值:  2.240893199201458\n",
      "總和:  7.380231707288347\n",
      "#3\n",
      "[[45 45 45 45 45]\n",
      " [45 45 45 45 45]\n",
      " [45 45 45 45 45]\n",
      " [45 45 45 45 45]\n",
      " [45 45 45 45 45]]\n"
     ]
    }
   ],
   "source": [
    "import numpy as np\n",
    "from numpy import random\n",
    "array1 = np.arange(1,51)\n",
    "print('#1')\n",
    "print('總和: ',array1.sum())\n",
    "\n",
    "random.seed(0)\n",
    "rnd_data = random.randn(10)\n",
    "print('#2')\n",
    "print('最小值: ',rnd_data.min())\n",
    "print('最大值: ',rnd_data.max())\n",
    "print('總和: ',rnd_data.sum())\n",
    "\n",
    "array1 = np.ones((5,5), dtype = np.int64)\n",
    "array1 = array1 + 2\n",
    "array1 = np.dot(array1,array1)\n",
    "print('#3')\n",
    "print(array1)\n"
   ]
  },
  {
   "cell_type": "markdown",
   "metadata": {
    "id": "rICmw7JWQyQ1"
   },
   "source": [
    "# HW 1-2"
   ]
  },
  {
   "cell_type": "code",
   "execution_count": 1,
   "metadata": {
    "colab": {
     "base_uri": "https://localhost:8080/"
    },
    "executionInfo": {
     "elapsed": 8,
     "status": "ok",
     "timestamp": 1646201649531,
     "user": {
      "displayName": "鍾崴光",
      "photoUrl": "https://lh3.googleusercontent.com/a/default-user=s64",
      "userId": "13844956840831505638"
     },
     "user_tz": -480
    },
    "id": "hsNy6LsNQyQ2",
    "outputId": "be18cdd7-d59c-4158-a752-17879460fc82"
   },
   "outputs": [
    {
     "name": "stdout",
     "output_type": "stream",
     "text": [
      "#1\n",
      "矩陣元素相乘 [[-0.677  0.034  1.128 -1.76 ]\n",
      " [-1.552  1.937  0.877  0.948]\n",
      " [-0.338  0.227  0.806 -4.722]\n",
      " [-0.013  0.429  0.611  0.656]]\n",
      "#2\n",
      "矩陣相乘 [[ 0.934  2.103 -4.647  2.855]\n",
      " [ 1.889  1.154 -2.454  8.739]\n",
      " [-1.318  1.166 -1.111  5.413]\n",
      " [-0.422  0.54   0.528  3.204]]\n"
     ]
    }
   ],
   "source": [
    "import numpy as np\n",
    "from numpy import random\n",
    "\n",
    "random.seed(1)\n",
    "rnd_data = random.randn(16).reshape(4,4)\n",
    "\n",
    "random.seed(2)\n",
    "rnd_data1 = random.randn(16).reshape(4,4)\n",
    "\n",
    "\n",
    "total = rnd_data*rnd_data1\n",
    "total1 = np.dot(rnd_data,rnd_data1)\n",
    "np.set_printoptions(precision=3, suppress=True)\n",
    "\n",
    "print('#1')\n",
    "print('矩陣元素相乘',total)\n",
    "\n",
    "print('#2')\n",
    "print('矩陣相乘',total1)"
   ]
  },
  {
   "cell_type": "markdown",
   "metadata": {
    "id": "BNUd7J8EQyQ3"
   },
   "source": [
    "# HW 1-3"
   ]
  },
  {
   "cell_type": "code",
   "execution_count": 5,
   "metadata": {
    "colab": {
     "base_uri": "https://localhost:8080/"
    },
    "executionInfo": {
     "elapsed": 337,
     "status": "ok",
     "timestamp": 1646201770343,
     "user": {
      "displayName": "鍾崴光",
      "photoUrl": "https://lh3.googleusercontent.com/a/default-user=s64",
      "userId": "13844956840831505638"
     },
     "user_tz": -480
    },
    "id": "ELAOdFcQQyQ4",
    "outputId": "9997a1cb-e192-4c34-f57a-c6f42f8bb561"
   },
   "outputs": [
    {
     "name": "stdout",
     "output_type": "stream",
     "text": [
      "#1\n",
      "  ID Sex  Money   Name\n",
      "0  1   F   1000  Alice\n",
      "1  2   F   2000    Bob\n",
      "2  3   M    500  Candy\n",
      "4  5   F    700   Ella\n",
      "#2\n",
      "Sex\n",
      "F    1233.333333\n",
      "M     400.000000\n",
      "Name: Money, dtype: float64\n",
      "#3\n",
      "  ID Sex  Money   Name  Math  English\n",
      "0  3   M    500  Candy    60       80\n",
      "1  4   M    300  David    30       20\n",
      "#4\n",
      "ID          17.0\n",
      "Money      400.0\n",
      "Math        45.0\n",
      "English     50.0\n",
      "dtype: float64\n"
     ]
    },
    {
     "name": "stderr",
     "output_type": "stream",
     "text": [
      "C:\\Users\\Daniel\\AppData\\Local\\Temp/ipykernel_15596/621006279.py:25: FutureWarning: Dropping of nuisance columns in DataFrame reductions (with 'numeric_only=None') is deprecated; in a future version this will raise TypeError.  Select only valid columns before calling the reduction.\n",
      "  ans1 = tmp.mean()\n"
     ]
    }
   ],
   "source": [
    "from pandas import Series,DataFrame\n",
    "import pandas as pd\n",
    "attri_data1 = {'ID':['1','2','3','4','5'],\n",
    "'Sex':['F','F','M','M','F'],\n",
    "'Money':[1000,2000,500,300,700],\n",
    "'Name':['Alice','Bob','Candy','David','Ella']}\n",
    "attri_data_frame1 = DataFrame(attri_data1 )\n",
    "\n",
    "t = attri_data_frame1[attri_data_frame1['Money'] >= 500]\n",
    "print('#1')\n",
    "print(t)\n",
    "ans = attri_data_frame1.groupby('Sex')['Money'].mean()\n",
    "print('#2')\n",
    "print(ans)\n",
    "\n",
    "\n",
    "attri_data2 = {'ID':['3','4','7'],\n",
    "'Math':[60,30,40],\n",
    "'English':[80,20,30]}\n",
    "attri_data_frame2 = DataFrame(attri_data2)\n",
    "\n",
    "tmp = pd.merge(attri_data_frame1,attri_data_frame2)\n",
    "print('#3')\n",
    "print(tmp)\n",
    "ans1 = tmp.mean()\n",
    "print('#4')\n",
    "print(ans1)"
   ]
  },
  {
   "cell_type": "markdown",
   "metadata": {
    "id": "fVZNCF0XQyQ5"
   },
   "source": [
    "# HW 1-4"
   ]
  },
  {
   "cell_type": "code",
   "execution_count": 6,
   "metadata": {
    "colab": {
     "base_uri": "https://localhost:8080/",
     "height": 104
    },
    "executionInfo": {
     "elapsed": 328,
     "status": "ok",
     "timestamp": 1646202375333,
     "user": {
      "displayName": "鍾崴光",
      "photoUrl": "https://lh3.googleusercontent.com/a/default-user=s64",
      "userId": "13844956840831505638"
     },
     "user_tz": -480
    },
    "id": "nul7jqX0QyQ6",
    "outputId": "e0bc1073-694e-47a3-ae2e-1029d7bbf283"
   },
   "outputs": [
    {
     "name": "stdout",
     "output_type": "stream",
     "text": [
      "#1\n",
      "    ID Sex       Money\n",
      "88  89   F  970.842622\n",
      "#2\n",
      "     ID Sex        Money\n",
      "0     1   F  1017.886285\n",
      "13   14   M  1017.095731\n",
      "22   23   M  1014.861484\n",
      "31   32   F  1019.761108\n",
      "38   39   M  1011.239780\n",
      "50   51   F  1010.131834\n",
      "52   53   F  1011.081875\n",
      "53   54   F  1011.193907\n",
      "54   55   F  1014.875431\n",
      "60   61   F  1010.481475\n",
      "61   62   F  1013.337378\n",
      "63   64   M  1017.746450\n",
      "69   70   M  1019.389785\n",
      "73   74   F  1017.696273\n",
      "79   80   F  1013.916629\n",
      "85   86   F  1011.678823\n",
      "99  100   F  1021.581493\n",
      "#3\n",
      "     ID Sex        Money\n",
      "99  100   F  1021.581493\n",
      "31   32   F  1019.761108\n",
      "69   70   M  1019.389785\n",
      "0     1   F  1017.886285\n",
      "63   64   M  1017.746450\n",
      "73   74   F  1017.696273\n",
      "13   14   M  1017.095731\n",
      "54   55   F  1014.875431\n",
      "22   23   M  1014.861484\n",
      "79   80   F  1013.916629\n",
      "61   62   F  1013.337378\n",
      "85   86   F  1011.678823\n",
      "38   39   M  1011.239780\n",
      "53   54   F  1011.193907\n",
      "52   53   F  1011.081875\n",
      "60   61   F  1010.481475\n",
      "50   51   F  1010.131834\n"
     ]
    }
   ],
   "source": [
    "import numpy as np\n",
    "from numpy import random\n",
    "from pandas import Series,DataFrame\n",
    "import pandas as pd\n",
    "\n",
    "random.seed(2)\n",
    "array = random.randint(2,size=100)\n",
    "array_real = []\n",
    "for i in array:\n",
    "    if i == 0:\n",
    "        array_real.append('F')\n",
    "    else:\n",
    "        array_real.append('M')\n",
    "random.seed(3)\n",
    "array1 = random.normal(1000,10,size=100)\n",
    "\n",
    "array2 = {\"ID\":range(1,101),'Sex':array_real,'Money':array1}\n",
    "\n",
    "array_dataF = DataFrame(array2)\n",
    "\n",
    "data_min = array_dataF[array_dataF['Money'] == array_dataF['Money'].min()]\n",
    "print('#1')\n",
    "print(data_min)\n",
    "data_2 = array_dataF[array_dataF['Money'] > 1010]\n",
    "print('#2')\n",
    "print(data_2)\n",
    "data_sort = data_2.sort_values(['Money'],ascending=False)\n",
    "print('#3')\n",
    "print(data_sort)\n"
   ]
  },
  {
   "cell_type": "markdown",
   "metadata": {
    "id": "2DpMK3yTQyQ6"
   },
   "source": [
    "# HW 1-5"
   ]
  },
  {
   "cell_type": "code",
   "execution_count": 26,
   "metadata": {
    "id": "Oqgmb4KaQyQ7",
    "scrolled": false
   },
   "outputs": [
    {
     "name": "stdout",
     "output_type": "stream",
     "text": [
      "#1\n",
      "           0         1         2         3         4         5\n",
      "0   0.548814  0.715189  0.602763  0.544883  0.423655  0.645894\n",
      "1   0.437587  0.891773  0.963663  0.383442  0.791725  0.528895\n",
      "3   0.778157  0.870012  0.978618  0.799159  0.461479  0.780529\n",
      "4   0.118274  0.639921  0.143353  0.944669  0.521848  0.414662\n",
      "9   0.208877  0.161310  0.653108  0.253292  0.466311  0.244426\n",
      "11  0.820993  0.097101  0.837945  0.096098  0.976459  0.468651\n",
      "12  0.976761  0.604846  0.739264  0.039188  0.282807  0.120197\n",
      "13  0.296140  0.118728  0.317983  0.414263  0.064147  0.692472\n",
      "14  0.566601  0.265389  0.523248  0.093941  0.575946  0.929296\n",
      "#2\n",
      "           0         1         2         3         4         5\n",
      "0   0.548814  0.715189  0.602763  0.544883  0.423655  0.645894\n",
      "1   0.437587  0.891773  0.963663  0.383442  0.791725  0.528895\n",
      "2   0.000000  0.925597  0.071036  0.087129  0.020218  0.832620\n",
      "3   0.778157  0.870012  0.978618  0.799159  0.461479  0.780529\n",
      "4   0.118274  0.639921  0.143353  0.944669  0.521848  0.414662\n",
      "5   0.264556  0.774234  0.000000  0.568434  0.018790  0.617635\n",
      "6   0.612096  0.616934  0.000000  0.681820  0.359508  0.437032\n",
      "7   0.697631  0.060225  0.000000  0.000000  0.210383  0.128926\n",
      "8   0.315428  0.363711  0.570197  0.000000  0.988374  0.102045\n",
      "9   0.208877  0.161310  0.653108  0.253292  0.466311  0.244426\n",
      "10  0.158970  0.110375  0.656330  0.138183  0.196582  0.000000\n",
      "11  0.820993  0.097101  0.837945  0.096098  0.976459  0.468651\n",
      "12  0.976761  0.604846  0.739264  0.039188  0.282807  0.120197\n",
      "13  0.296140  0.118728  0.317983  0.414263  0.064147  0.692472\n",
      "14  0.566601  0.265389  0.523248  0.093941  0.575946  0.929296\n",
      "#3\n",
      "           0         1         2         3         4         5\n",
      "0   0.548814  0.715189  0.602763  0.544883  0.423655  0.645894\n",
      "1   0.437587  0.891773  0.963663  0.383442  0.791725  0.528895\n",
      "2   0.485778  0.925597  0.071036  0.087129  0.020218  0.832620\n",
      "3   0.778157  0.870012  0.978618  0.799159  0.461479  0.780529\n",
      "4   0.118274  0.639921  0.143353  0.944669  0.521848  0.414662\n",
      "5   0.264556  0.774234  0.588126  0.568434  0.018790  0.617635\n",
      "6   0.612096  0.616934  0.588126  0.681820  0.359508  0.437032\n",
      "7   0.697631  0.060225  0.588126  0.388038  0.210383  0.128926\n",
      "8   0.315428  0.363711  0.570197  0.388038  0.988374  0.102045\n",
      "9   0.208877  0.161310  0.653108  0.253292  0.466311  0.244426\n",
      "10  0.158970  0.110375  0.656330  0.138183  0.196582  0.495949\n",
      "11  0.820993  0.097101  0.837945  0.096098  0.976459  0.468651\n",
      "12  0.976761  0.604846  0.739264  0.039188  0.282807  0.120197\n",
      "13  0.296140  0.118728  0.317983  0.414263  0.064147  0.692472\n",
      "14  0.566601  0.265389  0.523248  0.093941  0.575946  0.929296\n"
     ]
    }
   ],
   "source": [
    "import numpy as np\n",
    "from numpy import nan as NA\n",
    "import pandas as pd\n",
    "import numpy.random as random\n",
    "random.seed(0)\n",
    "df2 = pd.DataFrame(np.random.rand(15, 6))\n",
    "df2.iloc[2,0] = NA\n",
    "df2.iloc[5:8,2] = NA\n",
    "df2.iloc[7:9,3] = NA\n",
    "df2.iloc[10,5] = NA\n",
    "\n",
    "df1 = df2.dropna()\n",
    "print('#1')\n",
    "print(df1)\n",
    "\n",
    "df3 = df2.fillna(0)\n",
    "print('#2')\n",
    "print(df3)\n",
    "\n",
    "df4 = df2.fillna(df2.mean())\n",
    "print('#3')\n",
    "print(df4)"
   ]
  },
  {
   "cell_type": "markdown",
   "metadata": {
    "id": "qkIOMzORQyQ7"
   },
   "source": [
    "# HW 1-6"
   ]
  },
  {
   "cell_type": "code",
   "execution_count": 17,
   "metadata": {
    "id": "xI0HZ_8AQyQ8"
   },
   "outputs": [
    {
     "data": {
      "image/png": "[encoded data removed]",
      "text/plain": [
       "<Figure size 864x432 with 1 Axes>"
      ]
     },
     "metadata": {
      "needs_background": "light"
     },
     "output_type": "display_data"
    }
   ],
   "source": [
    "#導入 matplotlib.pyplot為plt\n",
    "#從bs4 導入 BeautifulSoup\n",
    "#導入 requests 模組\n",
    "from bs4 import BeautifulSoup\n",
    "import requests\n",
    "import matplotlib.pyplot as plt\n",
    "import matplotlib as mpl\n",
    "import seaborn as sns\n",
    "\n",
    "#宣告month, high, low三個list\n",
    "month,high,low = [],[],[]\n",
    "url = 'https://www.twse.com.tw/exchangeReport/FMSRFK?response=html&date=20200101&stockNo=2330'\n",
    "\n",
    "#使用requests get url\n",
    "response = requests.get(url)\n",
    "\n",
    "\n",
    "#使用BeautifulSoup解讀\n",
    "sp = BeautifulSoup(response.text,'lxml')\n",
    "\n",
    "#抓出table，並存成變數datas\n",
    "datas = sp.select(\"table\")\n",
    "\n",
    "#在datas中選擇tbody tr的標籤\n",
    "datas = sp.find_all('tr')\n",
    "\n",
    "#使用迴圈找出td，讀取出每個月的資料\n",
    "#td的第一個欄位為年份，不管他\n",
    "#td的第二個欄位為月份，加入到month list中\n",
    "#td的第三個欄位為當月最高價，加入到high list中\n",
    "#td的第三個欄位為當月最低價，加入到low list中\n",
    "for i in range(2,14):\n",
    "    tmp = datas[i].find_all('td')\n",
    "    month.append(int(tmp[1].text))\n",
    "    high.append(float(tmp[2].text))\n",
    "    low.append(float(tmp[3].text))\n",
    "#將圖表顯示出來\n",
    "plt.figure(figsize=(12,6))\n",
    "plt.title(\"2330\")\n",
    "plt.plot(month,high,label=\"Highest\")\n",
    "plt.plot(month,low,label=\"Lowest\")\n",
    "plt.xlabel=\"Month\"\n",
    "plt.ylabel=\"Money\"\n",
    "plt.legend(loc=\"best\")\n",
    "plt.show()"
   ]
  },
  {
   "cell_type": "code",
   "execution_count": null,
   "metadata": {
    "id": "3RD4TJNLQyQ9"
   },
   "outputs": [],
   "source": []
  }
 ],
 "metadata": {
  "colab": {
   "collapsed_sections": [],
   "name": "HW1-Data Preprocessing.ipynb",
   "provenance": []
  },
  "kernelspec": {
   "display_name": "Python 3 (ipykernel)",
   "language": "python",
   "name": "python3"
  },
  "language_info": {
   "codemirror_mode": {
    "name": "ipython",
    "version": 3
   },
   "file_extension": ".py",
   "mimetype": "text/x-python",
   "name": "python",
   "nbconvert_exporter": "python",
   "pygments_lexer": "ipython3",
   "version": "3.8.10"
  }
 },
 "nbformat": 4,
 "nbformat_minor": 1
}
