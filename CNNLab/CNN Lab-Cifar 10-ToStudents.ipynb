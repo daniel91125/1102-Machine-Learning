{
 "cells": [
  {
   "cell_type": "markdown",
   "metadata": {},
   "source": [
    "# 載入 cifar10 資料集"
   ]
  },
  {
   "cell_type": "code",
   "execution_count": 10,
   "metadata": {},
   "outputs": [],
   "source": [
    "from tensorflow.keras.datasets import cifar10\n",
    "(x_train,y_train),(x_test,y_test) = cifar10.load_data()"
   ]
  },
  {
   "cell_type": "markdown",
   "metadata": {},
   "source": [
    "# 查看資料的 shape"
   ]
  },
  {
   "cell_type": "code",
   "execution_count": 11,
   "metadata": {},
   "outputs": [
    {
     "name": "stdout",
     "output_type": "stream",
     "text": [
      "x_train shape:  (50000, 32, 32, 3)\n",
      "x_test shape:  (10000, 32, 32, 3)\n"
     ]
    }
   ],
   "source": [
    "print('x_train shape: ',x_train.shape)\n",
    "print('x_test shape: ',x_test.shape)"
   ]
  },
  {
   "cell_type": "markdown",
   "metadata": {},
   "source": [
    "# 查看標籤的 shape"
   ]
  },
  {
   "cell_type": "code",
   "execution_count": 12,
   "metadata": {},
   "outputs": [
    {
     "name": "stdout",
     "output_type": "stream",
     "text": [
      "y_train shape:  (50000, 1)\n",
      "y_test shape:  (10000, 1)\n"
     ]
    }
   ],
   "source": [
    "print('y_train shape: ',y_train.shape)\n",
    "print('y_test shape: ',y_test.shape)"
   ]
  },
  {
   "cell_type": "markdown",
   "metadata": {},
   "source": [
    "# 查看標籤的內容 "
   ]
  },
  {
   "cell_type": "code",
   "execution_count": 13,
   "metadata": {},
   "outputs": [
    {
     "name": "stdout",
     "output_type": "stream",
     "text": [
      "[[6]\n",
      " [9]\n",
      " [9]\n",
      " [4]\n",
      " [1]\n",
      " [1]\n",
      " [2]\n",
      " [7]\n",
      " [8]\n",
      " [3]]\n"
     ]
    }
   ],
   "source": [
    "print(y_train[0:10])"
   ]
  },
  {
   "cell_type": "markdown",
   "metadata": {},
   "source": [
    "# 進行 min-max normalization"
   ]
  },
  {
   "cell_type": "code",
   "execution_count": 14,
   "metadata": {},
   "outputs": [
    {
     "name": "stdout",
     "output_type": "stream",
     "text": [
      "[0.23137255 0.24313726 0.24705882]\n"
     ]
    }
   ],
   "source": [
    "x_train_norm = x_train.astype('float32') / 255\n",
    "x_test_norm = x_test.astype('float32') / 255\n",
    "\n",
    "#min-max normalization 後#\n",
    "print(x_train_norm[0][0][0])"
   ]
  },
  {
   "cell_type": "markdown",
   "metadata": {},
   "source": [
    "# 將數字標籤進行 One-hot 編碼"
   ]
  },
  {
   "cell_type": "code",
   "execution_count": 15,
   "metadata": {},
   "outputs": [
    {
     "name": "stdout",
     "output_type": "stream",
     "text": [
      "[6]\n"
     ]
    }
   ],
   "source": [
    "from tensorflow.keras import utils\n",
    "\n",
    "# 轉換前\n",
    "print(y_train[0])"
   ]
  },
  {
   "cell_type": "code",
   "execution_count": 16,
   "metadata": {},
   "outputs": [
    {
     "name": "stdout",
     "output_type": "stream",
     "text": [
      "[0. 0. 0. 0. 0. 0. 1. 0. 0. 0.]\n"
     ]
    }
   ],
   "source": [
    "# 進行 One-hot 編碼轉換...\n",
    "y_train_onehot = utils.to_categorical(y_train,10)\n",
    "y_test_onehot = utils.to_categorical(y_test,10)\n",
    "\n",
    "# 轉換後\n",
    "print(y_train_onehot[0])"
   ]
  },
  {
   "cell_type": "markdown",
   "metadata": {},
   "source": [
    "# 建立 CNN 神經網路架構"
   ]
  },
  {
   "cell_type": "code",
   "execution_count": 17,
   "metadata": {},
   "outputs": [],
   "source": [
    "from tensorflow.keras.models import Sequential\n",
    "from tensorflow.keras.layers import Dense, Dropout, Flatten\n",
    "from tensorflow.keras.layers import Conv2D, MaxPooling2D"
   ]
  },
  {
   "cell_type": "code",
   "execution_count": 18,
   "metadata": {},
   "outputs": [],
   "source": [
    "# CNN\n",
    "cnn = Sequential()\n",
    "cnn.add(Conv2D(32,(3,3), activation='relu', padding='same',input_shape = (32,32,3))) #卷基層(輸入)\n",
    "cnn.add(Dropout(0.25)) #Dropout\n",
    "cnn.add(MaxPooling2D((2,2))) #池化層\n",
    "\n",
    "cnn.add(Conv2D(64,(3,3), activation='relu', padding='same')) #卷基層(輸入)\n",
    "cnn.add(Dropout(0.25)) #Dropout\n",
    "cnn.add(MaxPooling2D((2,2))) #池化層\n",
    "\n",
    "cnn.add(Flatten()) #展平層\n",
    "cnn.add(Dropout(0.25)) #Dropout\n",
    "cnn.add(Dense(1024,activation = 'relu')) #密集層\n",
    "cnn.add(Dropout(0.25))\n",
    "cnn.add(Dense(10,activation = 'softmax')) #密集層(輸出分類)"
   ]
  },
  {
   "cell_type": "code",
   "execution_count": 19,
   "metadata": {},
   "outputs": [],
   "source": [
    "# 神經網路的訓練配置 #\n",
    "cnn.compile(loss='categorical_crossentropy',optimizer='adam',metrics=['acc'])"
   ]
  },
  {
   "cell_type": "code",
   "execution_count": 20,
   "metadata": {},
   "outputs": [
    {
     "name": "stdout",
     "output_type": "stream",
     "text": [
      "Epoch 1/20\n",
      "352/352 [==============================] - 98s 275ms/step - loss: 1.5691 - acc: 0.4368 - val_loss: 1.3686 - val_acc: 0.5420\n",
      "Epoch 2/20\n",
      "352/352 [==============================] - 98s 277ms/step - loss: 1.2209 - acc: 0.5654 - val_loss: 1.1813 - val_acc: 0.6184\n",
      "Epoch 3/20\n",
      "352/352 [==============================] - 96s 273ms/step - loss: 1.0701 - acc: 0.6210 - val_loss: 1.0589 - val_acc: 0.6438\n",
      "Epoch 4/20\n",
      "352/352 [==============================] - 83s 235ms/step - loss: 0.9549 - acc: 0.6635 - val_loss: 0.9842 - val_acc: 0.6746\n",
      "Epoch 5/20\n",
      "352/352 [==============================] - 84s 238ms/step - loss: 0.8606 - acc: 0.6969 - val_loss: 0.9404 - val_acc: 0.6988\n",
      "Epoch 6/20\n",
      "352/352 [==============================] - 83s 235ms/step - loss: 0.7729 - acc: 0.7284 - val_loss: 0.8602 - val_acc: 0.7146\n",
      "Epoch 7/20\n",
      "352/352 [==============================] - 83s 236ms/step - loss: 0.6977 - acc: 0.7531 - val_loss: 0.8498 - val_acc: 0.7216\n",
      "Epoch 8/20\n",
      "352/352 [==============================] - 83s 236ms/step - loss: 0.6150 - acc: 0.7837 - val_loss: 0.8009 - val_acc: 0.7364\n",
      "Epoch 9/20\n",
      "352/352 [==============================] - 83s 236ms/step - loss: 0.5497 - acc: 0.8062 - val_loss: 0.7766 - val_acc: 0.7410\n",
      "Epoch 10/20\n",
      "352/352 [==============================] - 83s 235ms/step - loss: 0.4865 - acc: 0.8290 - val_loss: 0.7638 - val_acc: 0.7418\n",
      "Epoch 11/20\n",
      "352/352 [==============================] - 86s 246ms/step - loss: 0.4335 - acc: 0.8470 - val_loss: 0.7496 - val_acc: 0.7532\n",
      "Epoch 12/20\n",
      "352/352 [==============================] - 79s 226ms/step - loss: 0.3926 - acc: 0.8642 - val_loss: 0.7393 - val_acc: 0.7534\n",
      "Epoch 13/20\n",
      "352/352 [==============================] - 77s 220ms/step - loss: 0.3444 - acc: 0.8790 - val_loss: 0.7384 - val_acc: 0.7588\n",
      "Epoch 14/20\n",
      "352/352 [==============================] - 78s 222ms/step - loss: 0.3126 - acc: 0.8922 - val_loss: 0.7702 - val_acc: 0.7456\n",
      "Epoch 15/20\n",
      "352/352 [==============================] - 78s 221ms/step - loss: 0.2804 - acc: 0.9012 - val_loss: 0.7678 - val_acc: 0.7504\n",
      "Epoch 16/20\n",
      "352/352 [==============================] - 78s 221ms/step - loss: 0.2641 - acc: 0.9068 - val_loss: 0.7508 - val_acc: 0.7576\n",
      "Epoch 17/20\n",
      "352/352 [==============================] - 78s 221ms/step - loss: 0.2300 - acc: 0.9195 - val_loss: 0.7878 - val_acc: 0.7452\n",
      "Epoch 18/20\n",
      "352/352 [==============================] - 78s 221ms/step - loss: 0.2185 - acc: 0.9230 - val_loss: 0.7655 - val_acc: 0.7522\n",
      "Epoch 19/20\n",
      "352/352 [==============================] - 78s 221ms/step - loss: 0.2152 - acc: 0.9254 - val_loss: 0.8016 - val_acc: 0.7476\n",
      "Epoch 20/20\n",
      "352/352 [==============================] - 77s 220ms/step - loss: 0.1870 - acc: 0.9344 - val_loss: 0.8050 - val_acc: 0.7440\n"
     ]
    }
   ],
   "source": [
    "# 進行訓練 #\n",
    "history = cnn.fit(x=x_train_norm,y=y_train_onehot,batch_size=128,epochs=20,validation_split=0.1)"
   ]
  },
  {
   "cell_type": "markdown",
   "metadata": {},
   "source": [
    "# 繪製圖表"
   ]
  },
  {
   "cell_type": "code",
   "execution_count": 31,
   "metadata": {},
   "outputs": [],
   "source": [
    "import matplotlib.pyplot as plt"
   ]
  },
  {
   "cell_type": "code",
   "execution_count": 36,
   "metadata": {},
   "outputs": [
    {
     "data": {
      "image/png": "[encoded data removed]",
      "text/plain": [
       "<Figure size 648x396 with 1 Axes>"
      ]
     },
     "metadata": {
      "needs_background": "light"
     },
     "output_type": "display_data"
    }
   ],
   "source": [
    "plt.figure(figsize=(9,5.5))\n",
    "plt.plot(history.history['acc'],label=\"train\")\n",
    "plt.plot(history.history['val_acc'],label=\"validation\")\n",
    "plt.xlabel(\"Epoch\")\n",
    "plt.ylabel(\"Accuracy\")\n",
    "plt.legend(loc = \"best\")\n",
    "plt.show()"
   ]
  },
  {
   "cell_type": "code",
   "execution_count": 37,
   "metadata": {},
   "outputs": [
    {
     "data": {
      "image/png": "[encoded data removed]",
      "text/plain": [
       "<Figure size 648x396 with 1 Axes>"
      ]
     },
     "metadata": {
      "needs_background": "light"
     },
     "output_type": "display_data"
    }
   ],
   "source": [
    "plt.figure(figsize=(9,5.5))\n",
    "plt.plot(history.history['loss'],label=\"train\")\n",
    "plt.plot(history.history['val_loss'],label=\"validation\")\n",
    "plt.xlabel(\"Epoch\")\n",
    "plt.ylabel(\"Loss\")\n",
    "plt.legend(loc = \"best\")\n",
    "plt.show()"
   ]
  },
  {
   "cell_type": "code",
   "execution_count": 28,
   "metadata": {},
   "outputs": [],
   "source": [
    "# --  儲存模型 -- #\n",
    "cnn.save('CNN_Model.h5')"
   ]
  },
  {
   "cell_type": "code",
   "execution_count": 29,
   "metadata": {},
   "outputs": [],
   "source": [
    "# -- 儲存模型權重-- #\n",
    "cnn.save_weights('CNN_weights.h5')"
   ]
  },
  {
   "cell_type": "code",
   "execution_count": 30,
   "metadata": {},
   "outputs": [
    {
     "name": "stdout",
     "output_type": "stream",
     "text": [
      "載入模型成功\n"
     ]
    }
   ],
   "source": [
    "# -- 載入模型 -- #\n",
    "from tensorflow.keras.models import load_model\n",
    "\n",
    "old_cnn = load_model('CNN_Model.h5')\n",
    "print('載入模型成功')"
   ]
  },
  {
   "cell_type": "markdown",
   "metadata": {},
   "source": [
    "# 使用測試資料評估神經網路"
   ]
  },
  {
   "cell_type": "code",
   "execution_count": 39,
   "metadata": {},
   "outputs": [
    {
     "name": "stdout",
     "output_type": "stream",
     "text": [
      "313/313 [==============================] - 4s 12ms/step - loss: 0.8211 - acc: 0.7335\n",
      "測試資料損失值: 0.821082353591919\n",
      "測試資料準確度: 0.7335000038146973\n"
     ]
    }
   ],
   "source": [
    "# evaluate\n",
    "test_loss, test_val = cnn.evaluate(x_test_norm,y_test_onehot)\n",
    "print('測試資料損失值:', test_loss)\n",
    "print('測試資料準確度:', test_val)"
   ]
  },
  {
   "cell_type": "code",
   "execution_count": 40,
   "metadata": {},
   "outputs": [
    {
     "name": "stdout",
     "output_type": "stream",
     "text": [
      "第一筆測試資料的預測機率 [5.9546714e-05 1.8179212e-03 2.6814698e-03 8.9608890e-01 4.7958715e-04\n",
      " 9.6828952e-02 1.9475966e-04 3.9286236e-04 1.4444774e-03 1.1544186e-05]\n"
     ]
    }
   ],
   "source": [
    "# predict\n",
    "predict_prop = cnn.predict(x_test_norm)\n",
    "print('第一筆測試資料的預測機率', predict_prop[0])"
   ]
  },
  {
   "cell_type": "code",
   "execution_count": 41,
   "metadata": {},
   "outputs": [
    {
     "data": {
      "image/png": "[encoded data removed]",
      "text/plain": [
       "<Figure size 144x144 with 1 Axes>"
      ]
     },
     "metadata": {
      "needs_background": "light"
     },
     "output_type": "display_data"
    }
   ],
   "source": [
    "# -- 查看測試資料的第 1 張圖片 -- #\n",
    "import matplotlib.pyplot as plt\n",
    "\n",
    "fig = plt.gcf()\n",
    "fig.set_size_inches(2, 2)\n",
    "plt.imshow(x_test[0])\n",
    "plt.show()"
   ]
  },
  {
   "cell_type": "code",
   "execution_count": 42,
   "metadata": {},
   "outputs": [
    {
     "data": {
      "image/png": "[encoded data removed]",
      "text/plain": [
       "<Figure size 144x144 with 1 Axes>"
      ]
     },
     "metadata": {
      "needs_background": "light"
     },
     "output_type": "display_data"
    }
   ],
   "source": [
    "# -- 查看測試資料的第 2 張圖片 -- #\n",
    "fig = plt.gcf()\n",
    "fig.set_size_inches(2, 2)\n",
    "plt.imshow(x_test[1])\n",
    "plt.show()"
   ]
  },
  {
   "cell_type": "code",
   "execution_count": 46,
   "metadata": {},
   "outputs": [
    {
     "name": "stdout",
     "output_type": "stream",
     "text": [
      "前 10 筆預測標籤: [3 8 8 0 6 6 1 6 3 1]\n",
      "前 10 筆原始標籤: [3 8 8 0 6 6 1 6 3 1]\n"
     ]
    }
   ],
   "source": [
    "# -- 直接預測數字標籤 -- #\n",
    "import numpy as np\n",
    "predict_class = cnn.predict(x_test_norm)\n",
    "predict_class = np.argmax(predict_class,axis=1)\n",
    "print('前 10 筆預測標籤:', predict_class[: 10])\n",
    "print('前 10 筆原始標籤:', y_test[: 10].reshape(10))"
   ]
  },
  {
   "cell_type": "code",
   "execution_count": null,
   "metadata": {},
   "outputs": [],
   "source": []
  }
 ],
 "metadata": {
  "kernelspec": {
   "display_name": "Python 3 (ipykernel)",
   "language": "python",
   "name": "python3"
  },
  "language_info": {
   "codemirror_mode": {
    "name": "ipython",
    "version": 3
   },
   "file_extension": ".py",
   "mimetype": "text/x-python",
   "name": "python",
   "nbconvert_exporter": "python",
   "pygments_lexer": "ipython3",
   "version": "3.8.10"
  }
 },
 "nbformat": 4,
 "nbformat_minor": 4
}
